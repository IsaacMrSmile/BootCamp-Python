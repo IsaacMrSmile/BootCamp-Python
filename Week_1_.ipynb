{
  "nbformat": 4,
  "nbformat_minor": 0,
  "metadata": {
    "colab": {
      "name": "Week 1 .ipynb",
      "private_outputs": true,
      "provenance": [],
      "collapsed_sections": [],
      "authorship_tag": "ABX9TyNh4vl57z/+nK2VDRUeB8Fr",
      "include_colab_link": true
    },
    "kernelspec": {
      "name": "python3",
      "display_name": "Python 3"
    },
    "language_info": {
      "name": "python"
    },
    "accelerator": "GPU"
  },
  "cells": [
    {
      "cell_type": "markdown",
      "metadata": {
        "id": "view-in-github",
        "colab_type": "text"
      },
      "source": [
        "<a href=\"https://colab.research.google.com/github/IsaacMrSmile/BootCamp-Python/blob/main/Week_1_.ipynb\" target=\"_parent\"><img src=\"https://colab.research.google.com/assets/colab-badge.svg\" alt=\"Open In Colab\"/></a>"
      ]
    },
    {
      "cell_type": "markdown",
      "source": [
        "#   WEEK NUMER ONE"
      ],
      "metadata": {
        "id": "oFGZ37f4_vMb"
      }
    },
    {
      "cell_type": "markdown",
      "source": [
        "# ADD TWO VARIABLES"
      ],
      "metadata": {
        "id": "Uff0f7Rc_hoc"
      }
    },
    {
      "cell_type": "code",
      "source": [
        ""
      ],
      "metadata": {
        "id": "CrLxTcD6_tg4"
      },
      "execution_count": null,
      "outputs": []
    }
  ]
}